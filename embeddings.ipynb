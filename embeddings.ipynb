{
 "metadata": {
  "language_info": {
   "codemirror_mode": {
    "name": "ipython",
    "version": 3
   },
   "file_extension": ".py",
   "mimetype": "text/x-python",
   "name": "python",
   "nbconvert_exporter": "python",
   "pygments_lexer": "ipython3",
   "version": "3.8.5-final"
  },
  "orig_nbformat": 2,
  "kernelspec": {
   "name": "python38564bitvenvnlp2venv82f16d541d5c410e9fc7d4911a990df6",
   "display_name": "Python 3.8.5 64-bit ('venv_nlp2': venv)"
  }
 },
 "nbformat": 4,
 "nbformat_minor": 2,
 "cells": [
  {
   "cell_type": "code",
   "execution_count": 60,
   "metadata": {},
   "outputs": [],
   "source": [
    "import pandas as pd\n",
    "from tqdm import tqdm\n",
    "import numpy as np\n",
    "from numpy import dot\n",
    "from numpy.linalg import norm"
   ]
  },
  {
   "source": [
    "## Read SimLex"
   ],
   "cell_type": "markdown",
   "metadata": {}
  },
  {
   "cell_type": "code",
   "execution_count": 16,
   "metadata": {},
   "outputs": [],
   "source": [
    "simlex = pd.read_csv('MSimLex999_Polish.txt', sep='\\t', header=None)"
   ]
  },
  {
   "cell_type": "code",
   "execution_count": 17,
   "metadata": {},
   "outputs": [],
   "source": [
    "simlex.columns = ['id', 'word1', 'word2', 'similarity', 'relatedness']"
   ]
  },
  {
   "cell_type": "code",
   "execution_count": 18,
   "metadata": {},
   "outputs": [
    {
     "output_type": "execute_result",
     "data": {
      "text/plain": [
       "   id       word1         word2  similarity  relatedness\n",
       "0   1       stary          nowy        0.43         7.29\n",
       "1   2      bystry  inteligentny        8.86         9.71\n",
       "2   3      ciężki        trudny        4.86         7.29\n",
       "3   4  szczęśliwy       radosny        8.14         8.86\n",
       "4   5       łatwy       męczący        0.43         6.43"
      ],
      "text/html": "<div>\n<style scoped>\n    .dataframe tbody tr th:only-of-type {\n        vertical-align: middle;\n    }\n\n    .dataframe tbody tr th {\n        vertical-align: top;\n    }\n\n    .dataframe thead th {\n        text-align: right;\n    }\n</style>\n<table border=\"1\" class=\"dataframe\">\n  <thead>\n    <tr style=\"text-align: right;\">\n      <th></th>\n      <th>id</th>\n      <th>word1</th>\n      <th>word2</th>\n      <th>similarity</th>\n      <th>relatedness</th>\n    </tr>\n  </thead>\n  <tbody>\n    <tr>\n      <th>0</th>\n      <td>1</td>\n      <td>stary</td>\n      <td>nowy</td>\n      <td>0.43</td>\n      <td>7.29</td>\n    </tr>\n    <tr>\n      <th>1</th>\n      <td>2</td>\n      <td>bystry</td>\n      <td>inteligentny</td>\n      <td>8.86</td>\n      <td>9.71</td>\n    </tr>\n    <tr>\n      <th>2</th>\n      <td>3</td>\n      <td>ciężki</td>\n      <td>trudny</td>\n      <td>4.86</td>\n      <td>7.29</td>\n    </tr>\n    <tr>\n      <th>3</th>\n      <td>4</td>\n      <td>szczęśliwy</td>\n      <td>radosny</td>\n      <td>8.14</td>\n      <td>8.86</td>\n    </tr>\n    <tr>\n      <th>4</th>\n      <td>5</td>\n      <td>łatwy</td>\n      <td>męczący</td>\n      <td>0.43</td>\n      <td>6.43</td>\n    </tr>\n  </tbody>\n</table>\n</div>"
     },
     "metadata": {},
     "execution_count": 18
    }
   ],
   "source": [
    "simlex.head()"
   ]
  },
  {
   "cell_type": "code",
   "execution_count": 97,
   "metadata": {},
   "outputs": [
    {
     "output_type": "execute_result",
     "data": {
      "text/plain": [
       "               id  similarity  relatedness\n",
       "count  999.000000  999.000000   999.000000\n",
       "mean   500.000000    2.476697     5.945395\n",
       "std    288.530761    2.553304     2.531229\n",
       "min      1.000000    0.000000     0.000000\n",
       "25%    250.500000    0.430000     4.430000\n",
       "50%    500.000000    1.570000     6.570000\n",
       "75%    749.500000    4.000000     7.860000\n",
       "max    999.000000    9.710000     9.860000"
      ],
      "text/html": "<div>\n<style scoped>\n    .dataframe tbody tr th:only-of-type {\n        vertical-align: middle;\n    }\n\n    .dataframe tbody tr th {\n        vertical-align: top;\n    }\n\n    .dataframe thead th {\n        text-align: right;\n    }\n</style>\n<table border=\"1\" class=\"dataframe\">\n  <thead>\n    <tr style=\"text-align: right;\">\n      <th></th>\n      <th>id</th>\n      <th>similarity</th>\n      <th>relatedness</th>\n    </tr>\n  </thead>\n  <tbody>\n    <tr>\n      <th>count</th>\n      <td>999.000000</td>\n      <td>999.000000</td>\n      <td>999.000000</td>\n    </tr>\n    <tr>\n      <th>mean</th>\n      <td>500.000000</td>\n      <td>2.476697</td>\n      <td>5.945395</td>\n    </tr>\n    <tr>\n      <th>std</th>\n      <td>288.530761</td>\n      <td>2.553304</td>\n      <td>2.531229</td>\n    </tr>\n    <tr>\n      <th>min</th>\n      <td>1.000000</td>\n      <td>0.000000</td>\n      <td>0.000000</td>\n    </tr>\n    <tr>\n      <th>25%</th>\n      <td>250.500000</td>\n      <td>0.430000</td>\n      <td>4.430000</td>\n    </tr>\n    <tr>\n      <th>50%</th>\n      <td>500.000000</td>\n      <td>1.570000</td>\n      <td>6.570000</td>\n    </tr>\n    <tr>\n      <th>75%</th>\n      <td>749.500000</td>\n      <td>4.000000</td>\n      <td>7.860000</td>\n    </tr>\n    <tr>\n      <th>max</th>\n      <td>999.000000</td>\n      <td>9.710000</td>\n      <td>9.860000</td>\n    </tr>\n  </tbody>\n</table>\n</div>"
     },
     "metadata": {},
     "execution_count": 97
    }
   ],
   "source": [
    "simlex.describe()"
   ]
  },
  {
   "cell_type": "code",
   "execution_count": 24,
   "metadata": {},
   "outputs": [],
   "source": [
    "unique_words = set(list(simlex['word1'].unique()) + list(simlex['word2'].unique()))"
   ]
  },
  {
   "cell_type": "code",
   "execution_count": 41,
   "metadata": {},
   "outputs": [
    {
     "output_type": "execute_result",
     "data": {
      "text/plain": [
       "1139"
      ]
     },
     "metadata": {},
     "execution_count": 41
    }
   ],
   "source": [
    "len(unique_words)"
   ]
  },
  {
   "source": [
    "## Read embeddings"
   ],
   "cell_type": "markdown",
   "metadata": {}
  },
  {
   "cell_type": "code",
   "execution_count": 50,
   "metadata": {
    "tags": []
   },
   "outputs": [
    {
     "output_type": "stream",
     "name": "stderr",
     "text": [
      "2137684it [00:28, 74136.51it/s]\n"
     ]
    }
   ],
   "source": [
    "embeddings = {}\n",
    "\n",
    "with open(\"kgr10.plain.lemma.cbow.dim100.neg10.vec\", \"r\") as vec:\n",
    "    next(vec)\n",
    "    for line in tqdm(vec):\n",
    "        line = line.split()\n",
    "        if line[0] in unique_words:\n",
    "            embeddings[line[0]] = np.array(line[1:]).astype(float)"
   ]
  },
  {
   "cell_type": "code",
   "execution_count": 51,
   "metadata": {},
   "outputs": [
    {
     "output_type": "execute_result",
     "data": {
      "text/plain": [
       "1117"
      ]
     },
     "metadata": {},
     "execution_count": 51
    }
   ],
   "source": [
    "len(embeddings)"
   ]
  },
  {
   "source": [
    "### Missing embeddings"
   ],
   "cell_type": "markdown",
   "metadata": {}
  },
  {
   "cell_type": "code",
   "execution_count": 55,
   "metadata": {},
   "outputs": [],
   "source": [
    "found_embeddings = set(embeddings.keys())"
   ]
  },
  {
   "cell_type": "code",
   "execution_count": 56,
   "metadata": {},
   "outputs": [
    {
     "output_type": "execute_result",
     "data": {
      "text/plain": [
       "{'byk',\n",
       " 'cela',\n",
       " 'duma',\n",
       " 'dąb ',\n",
       " 'furia',\n",
       " 'głupi ',\n",
       " 'kostka',\n",
       " 'księżyc',\n",
       " 'ludzie',\n",
       " 'luka',\n",
       " 'meble',\n",
       " 'mężczyźni',\n",
       " 'nasiona',\n",
       " 'obładowany',\n",
       " 'partia',\n",
       " 'pieniądze',\n",
       " 'przestraszony',\n",
       " 'rak',\n",
       " 'ruch',\n",
       " 'sława',\n",
       " 'ubrania',\n",
       " 'łódź'}"
      ]
     },
     "metadata": {},
     "execution_count": 56
    }
   ],
   "source": [
    "unique_words - found_embeddings"
   ]
  },
  {
   "cell_type": "code",
   "execution_count": 89,
   "metadata": {},
   "outputs": [],
   "source": [
    "filtered_simlex = simlex[(simlex['word1'].isin(found_embeddings)) & (simlex['word2'].isin(found_embeddings))]"
   ]
  },
  {
   "cell_type": "code",
   "execution_count": 90,
   "metadata": {},
   "outputs": [
    {
     "output_type": "stream",
     "name": "stdout",
     "text": [
      "999\n967\n"
     ]
    }
   ],
   "source": [
    "print(len(simlex))\n",
    "print(len(filtered_simlex))"
   ]
  },
  {
   "source": [
    "## Similarity / relatedness metrics"
   ],
   "cell_type": "markdown",
   "metadata": {}
  },
  {
   "cell_type": "code",
   "execution_count": 91,
   "metadata": {},
   "outputs": [],
   "source": [
    "def add_cosinus(simlex_row):\n",
    "    v1 = embeddings[simlex_row['word1']]\n",
    "    v2 = embeddings[simlex_row['word2']]\n",
    "\n",
    "    simlex_row['cosinus'] = dot(v1, v2)/(norm(v1) * (norm(v2)))\n",
    "\n",
    "    return simlex_row"
   ]
  },
  {
   "cell_type": "code",
   "execution_count": 92,
   "metadata": {},
   "outputs": [],
   "source": [
    "def add_euclidean(simlex_row):\n",
    "    v1 = embeddings[simlex_row['word1']]\n",
    "    v2 = embeddings[simlex_row['word2']]\n",
    "\n",
    "    simlex_row['euclidean'] = np.sqrt(np.sum((v1 - v2)**2))\n",
    "\n",
    "    return simlex_row"
   ]
  },
  {
   "cell_type": "code",
   "execution_count": 93,
   "metadata": {},
   "outputs": [],
   "source": [
    "tqdm.pandas()"
   ]
  },
  {
   "cell_type": "code",
   "execution_count": 94,
   "metadata": {},
   "outputs": [
    {
     "output_type": "stream",
     "name": "stderr",
     "text": [
      "100%|██████████| 967/967 [00:00<00:00, 1199.65it/s]\n"
     ]
    }
   ],
   "source": [
    "filtered_simlex = filtered_simlex.progress_apply(add_cosinus, axis=1)"
   ]
  },
  {
   "cell_type": "code",
   "execution_count": 95,
   "metadata": {},
   "outputs": [
    {
     "output_type": "stream",
     "name": "stderr",
     "text": [
      "100%|██████████| 967/967 [00:00<00:00, 1148.71it/s]\n"
     ]
    }
   ],
   "source": [
    "filtered_simlex = filtered_simlex.progress_apply(add_euclidean, axis=1)"
   ]
  },
  {
   "cell_type": "code",
   "execution_count": 96,
   "metadata": {},
   "outputs": [
    {
     "output_type": "execute_result",
     "data": {
      "text/plain": [
       "      id         word1         word2  similarity  relatedness   cosinus  \\\n",
       "994  995      dołączyć        zdobyć        0.43         2.29  0.657871   \n",
       "995  996       wysyłać  uczestniczyć        0.00         0.86  0.560702   \n",
       "996  997       zbierać  uczestniczyć        0.00         0.71  0.617206   \n",
       "997  998     pochłonąć       wycofać        0.00         0.57  0.720902   \n",
       "998  999  uczestniczyć       przybyć        0.57         3.43  0.727095   \n",
       "\n",
       "     euclideann  \n",
       "994   25.897192  \n",
       "995   29.530632  \n",
       "996   26.957282  \n",
       "997   21.570204  \n",
       "998   22.198529  "
      ],
      "text/html": "<div>\n<style scoped>\n    .dataframe tbody tr th:only-of-type {\n        vertical-align: middle;\n    }\n\n    .dataframe tbody tr th {\n        vertical-align: top;\n    }\n\n    .dataframe thead th {\n        text-align: right;\n    }\n</style>\n<table border=\"1\" class=\"dataframe\">\n  <thead>\n    <tr style=\"text-align: right;\">\n      <th></th>\n      <th>id</th>\n      <th>word1</th>\n      <th>word2</th>\n      <th>similarity</th>\n      <th>relatedness</th>\n      <th>cosinus</th>\n      <th>euclideann</th>\n    </tr>\n  </thead>\n  <tbody>\n    <tr>\n      <th>994</th>\n      <td>995</td>\n      <td>dołączyć</td>\n      <td>zdobyć</td>\n      <td>0.43</td>\n      <td>2.29</td>\n      <td>0.657871</td>\n      <td>25.897192</td>\n    </tr>\n    <tr>\n      <th>995</th>\n      <td>996</td>\n      <td>wysyłać</td>\n      <td>uczestniczyć</td>\n      <td>0.00</td>\n      <td>0.86</td>\n      <td>0.560702</td>\n      <td>29.530632</td>\n    </tr>\n    <tr>\n      <th>996</th>\n      <td>997</td>\n      <td>zbierać</td>\n      <td>uczestniczyć</td>\n      <td>0.00</td>\n      <td>0.71</td>\n      <td>0.617206</td>\n      <td>26.957282</td>\n    </tr>\n    <tr>\n      <th>997</th>\n      <td>998</td>\n      <td>pochłonąć</td>\n      <td>wycofać</td>\n      <td>0.00</td>\n      <td>0.57</td>\n      <td>0.720902</td>\n      <td>21.570204</td>\n    </tr>\n    <tr>\n      <th>998</th>\n      <td>999</td>\n      <td>uczestniczyć</td>\n      <td>przybyć</td>\n      <td>0.57</td>\n      <td>3.43</td>\n      <td>0.727095</td>\n      <td>22.198529</td>\n    </tr>\n  </tbody>\n</table>\n</div>"
     },
     "metadata": {},
     "execution_count": 96
    }
   ],
   "source": [
    "filtered_simlex.tail()"
   ]
  },
  {
   "cell_type": "code",
   "execution_count": 98,
   "metadata": {},
   "outputs": [],
   "source": [
    "filtered_simlex.to_csv('embeddings_results.csv')"
   ]
  }
 ]
}