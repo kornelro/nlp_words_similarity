{
 "metadata": {
  "language_info": {
   "codemirror_mode": {
    "name": "ipython",
    "version": 3
   },
   "file_extension": ".py",
   "mimetype": "text/x-python",
   "name": "python",
   "nbconvert_exporter": "python",
   "pygments_lexer": "ipython3",
   "version": "3.8.5-final"
  },
  "orig_nbformat": 2,
  "kernelspec": {
   "name": "python38564bitvenvnlp2venv82f16d541d5c410e9fc7d4911a990df6",
   "display_name": "Python 3.8.5 64-bit ('venv_nlp2': venv)"
  }
 },
 "nbformat": 4,
 "nbformat_minor": 2,
 "cells": [
  {
   "cell_type": "code",
   "execution_count": 4,
   "metadata": {},
   "outputs": [],
   "source": [
    "import pandas as pd\n",
    "from tqdm import tqdm\n",
    "import numpy as np\n",
    "from numpy import dot\n",
    "from numpy.linalg import norm\n",
    "import itertools"
   ]
  },
  {
   "source": [
    "## Read SimLex"
   ],
   "cell_type": "markdown",
   "metadata": {}
  },
  {
   "cell_type": "code",
   "execution_count": 9,
   "metadata": {},
   "outputs": [],
   "source": [
    "simlex = pd.read_csv('./data/MSimLex999_Polish.txt', sep='\\t', header=None)"
   ]
  },
  {
   "cell_type": "code",
   "execution_count": 10,
   "metadata": {},
   "outputs": [],
   "source": [
    "simlex.columns = ['id', 'word1', 'word2', 'similarity', 'relatedness']"
   ]
  },
  {
   "cell_type": "code",
   "execution_count": 11,
   "metadata": {},
   "outputs": [
    {
     "output_type": "execute_result",
     "data": {
      "text/plain": [
       "   id       word1         word2  similarity  relatedness\n",
       "0   1       stary          nowy        0.43         7.29\n",
       "1   2      bystry  inteligentny        8.86         9.71\n",
       "2   3      ciężki        trudny        4.86         7.29\n",
       "3   4  szczęśliwy       radosny        8.14         8.86\n",
       "4   5       łatwy       męczący        0.43         6.43"
      ],
      "text/html": "<div>\n<style scoped>\n    .dataframe tbody tr th:only-of-type {\n        vertical-align: middle;\n    }\n\n    .dataframe tbody tr th {\n        vertical-align: top;\n    }\n\n    .dataframe thead th {\n        text-align: right;\n    }\n</style>\n<table border=\"1\" class=\"dataframe\">\n  <thead>\n    <tr style=\"text-align: right;\">\n      <th></th>\n      <th>id</th>\n      <th>word1</th>\n      <th>word2</th>\n      <th>similarity</th>\n      <th>relatedness</th>\n    </tr>\n  </thead>\n  <tbody>\n    <tr>\n      <th>0</th>\n      <td>1</td>\n      <td>stary</td>\n      <td>nowy</td>\n      <td>0.43</td>\n      <td>7.29</td>\n    </tr>\n    <tr>\n      <th>1</th>\n      <td>2</td>\n      <td>bystry</td>\n      <td>inteligentny</td>\n      <td>8.86</td>\n      <td>9.71</td>\n    </tr>\n    <tr>\n      <th>2</th>\n      <td>3</td>\n      <td>ciężki</td>\n      <td>trudny</td>\n      <td>4.86</td>\n      <td>7.29</td>\n    </tr>\n    <tr>\n      <th>3</th>\n      <td>4</td>\n      <td>szczęśliwy</td>\n      <td>radosny</td>\n      <td>8.14</td>\n      <td>8.86</td>\n    </tr>\n    <tr>\n      <th>4</th>\n      <td>5</td>\n      <td>łatwy</td>\n      <td>męczący</td>\n      <td>0.43</td>\n      <td>6.43</td>\n    </tr>\n  </tbody>\n</table>\n</div>"
     },
     "metadata": {},
     "execution_count": 11
    }
   ],
   "source": [
    "simlex.head()"
   ]
  },
  {
   "cell_type": "code",
   "execution_count": 12,
   "metadata": {},
   "outputs": [
    {
     "output_type": "execute_result",
     "data": {
      "text/plain": [
       "               id  similarity  relatedness\n",
       "count  999.000000  999.000000   999.000000\n",
       "mean   500.000000    2.476697     5.945395\n",
       "std    288.530761    2.553304     2.531229\n",
       "min      1.000000    0.000000     0.000000\n",
       "25%    250.500000    0.430000     4.430000\n",
       "50%    500.000000    1.570000     6.570000\n",
       "75%    749.500000    4.000000     7.860000\n",
       "max    999.000000    9.710000     9.860000"
      ],
      "text/html": "<div>\n<style scoped>\n    .dataframe tbody tr th:only-of-type {\n        vertical-align: middle;\n    }\n\n    .dataframe tbody tr th {\n        vertical-align: top;\n    }\n\n    .dataframe thead th {\n        text-align: right;\n    }\n</style>\n<table border=\"1\" class=\"dataframe\">\n  <thead>\n    <tr style=\"text-align: right;\">\n      <th></th>\n      <th>id</th>\n      <th>similarity</th>\n      <th>relatedness</th>\n    </tr>\n  </thead>\n  <tbody>\n    <tr>\n      <th>count</th>\n      <td>999.000000</td>\n      <td>999.000000</td>\n      <td>999.000000</td>\n    </tr>\n    <tr>\n      <th>mean</th>\n      <td>500.000000</td>\n      <td>2.476697</td>\n      <td>5.945395</td>\n    </tr>\n    <tr>\n      <th>std</th>\n      <td>288.530761</td>\n      <td>2.553304</td>\n      <td>2.531229</td>\n    </tr>\n    <tr>\n      <th>min</th>\n      <td>1.000000</td>\n      <td>0.000000</td>\n      <td>0.000000</td>\n    </tr>\n    <tr>\n      <th>25%</th>\n      <td>250.500000</td>\n      <td>0.430000</td>\n      <td>4.430000</td>\n    </tr>\n    <tr>\n      <th>50%</th>\n      <td>500.000000</td>\n      <td>1.570000</td>\n      <td>6.570000</td>\n    </tr>\n    <tr>\n      <th>75%</th>\n      <td>749.500000</td>\n      <td>4.000000</td>\n      <td>7.860000</td>\n    </tr>\n    <tr>\n      <th>max</th>\n      <td>999.000000</td>\n      <td>9.710000</td>\n      <td>9.860000</td>\n    </tr>\n  </tbody>\n</table>\n</div>"
     },
     "metadata": {},
     "execution_count": 12
    }
   ],
   "source": [
    "simlex.describe()"
   ]
  },
  {
   "cell_type": "code",
   "execution_count": 13,
   "metadata": {},
   "outputs": [],
   "source": [
    "unique_words = set(list(simlex['word1'].unique()) + list(simlex['word2'].unique()))"
   ]
  },
  {
   "cell_type": "code",
   "execution_count": 14,
   "metadata": {},
   "outputs": [
    {
     "output_type": "execute_result",
     "data": {
      "text/plain": [
       "1139"
      ]
     },
     "metadata": {},
     "execution_count": 14
    }
   ],
   "source": [
    "len(unique_words)"
   ]
  },
  {
   "source": [
    "## Read embeddings"
   ],
   "cell_type": "markdown",
   "metadata": {}
  },
  {
   "cell_type": "code",
   "execution_count": 15,
   "metadata": {
    "tags": []
   },
   "outputs": [
    {
     "output_type": "stream",
     "name": "stderr",
     "text": [
      "2137684it [00:25, 84830.05it/s]\n"
     ]
    }
   ],
   "source": [
    "embeddings = {}\n",
    "\n",
    "with open(\"./data/kgr10.plain.lemma.cbow.dim100.neg10.vec\", \"r\") as vec:\n",
    "    next(vec)\n",
    "    for line in tqdm(vec):\n",
    "        line = line.split()\n",
    "        if line[0] in unique_words:\n",
    "            embeddings[line[0]] = np.array(line[1:]).astype(float)"
   ]
  },
  {
   "cell_type": "code",
   "execution_count": 16,
   "metadata": {},
   "outputs": [
    {
     "output_type": "execute_result",
     "data": {
      "text/plain": [
       "1117"
      ]
     },
     "metadata": {},
     "execution_count": 16
    }
   ],
   "source": [
    "len(embeddings)"
   ]
  },
  {
   "source": [
    "### Missing embeddings"
   ],
   "cell_type": "markdown",
   "metadata": {}
  },
  {
   "cell_type": "code",
   "execution_count": 14,
   "metadata": {},
   "outputs": [],
   "source": [
    "found_embeddings = set(embeddings.keys())"
   ]
  },
  {
   "cell_type": "code",
   "execution_count": 15,
   "metadata": {},
   "outputs": [
    {
     "output_type": "execute_result",
     "data": {
      "text/plain": [
       "{'byk',\n",
       " 'cela',\n",
       " 'duma',\n",
       " 'dąb ',\n",
       " 'furia',\n",
       " 'głupi ',\n",
       " 'kostka',\n",
       " 'księżyc',\n",
       " 'ludzie',\n",
       " 'luka',\n",
       " 'meble',\n",
       " 'mężczyźni',\n",
       " 'nasiona',\n",
       " 'obładowany',\n",
       " 'partia',\n",
       " 'pieniądze',\n",
       " 'przestraszony',\n",
       " 'rak',\n",
       " 'ruch',\n",
       " 'sława',\n",
       " 'ubrania',\n",
       " 'łódź'}"
      ]
     },
     "metadata": {},
     "execution_count": 15
    }
   ],
   "source": [
    "unique_words - found_embeddings"
   ]
  },
  {
   "cell_type": "code",
   "execution_count": 18,
   "metadata": {},
   "outputs": [],
   "source": [
    "filtered_simlex = simlex[(simlex['word1'].isin(found_embeddings)) & (simlex['word2'].isin(found_embeddings))].reset_index(inplace=False)"
   ]
  },
  {
   "cell_type": "code",
   "execution_count": 20,
   "metadata": {},
   "outputs": [
    {
     "output_type": "stream",
     "name": "stdout",
     "text": [
      "999\n967\n"
     ]
    }
   ],
   "source": [
    "print(len(simlex))\n",
    "print(len(filtered_simlex))"
   ]
  },
  {
   "source": [
    "## Similarity / relatedness metrics"
   ],
   "cell_type": "markdown",
   "metadata": {}
  },
  {
   "cell_type": "code",
   "execution_count": 48,
   "metadata": {},
   "outputs": [],
   "source": [
    "def cosinus(w1, w2):\n",
    "    v1 = embeddings[w1]\n",
    "    v2 = embeddings[w2]\n",
    "\n",
    "    return dot(v1, v2)/(norm(v1) * (norm(v2)))"
   ]
  },
  {
   "cell_type": "code",
   "execution_count": 49,
   "metadata": {},
   "outputs": [],
   "source": [
    "def add_cosinus(simlex_row):\n",
    "   \n",
    "    simlex_row['cosinus'] = cosinus(\n",
    "        simlex_row['word1'], simlex_row['word2']\n",
    "    )\n",
    "\n",
    "    return simlex_row"
   ]
  },
  {
   "cell_type": "code",
   "execution_count": 50,
   "metadata": {},
   "outputs": [],
   "source": [
    "def euclidean(w1, w2):\n",
    "    v1 = embeddings[w1]\n",
    "    v2 = embeddings[w2]\n",
    "\n",
    "    return np.sqrt(np.sum((v1 - v2)**2))"
   ]
  },
  {
   "cell_type": "code",
   "execution_count": 51,
   "metadata": {},
   "outputs": [],
   "source": [
    "def add_euclidean(simlex_row):\n",
    "    \n",
    "    simlex_row['euclidean'] = euclidean(\n",
    "        simlex_row['word1'], simlex_row['word2']\n",
    "    )\n",
    "\n",
    "    return simlex_row"
   ]
  },
  {
   "cell_type": "code",
   "execution_count": 23,
   "metadata": {},
   "outputs": [],
   "source": [
    "tqdm.pandas()"
   ]
  },
  {
   "cell_type": "code",
   "execution_count": 24,
   "metadata": {},
   "outputs": [
    {
     "output_type": "stream",
     "name": "stderr",
     "text": [
      "100%|██████████| 967/967 [00:00<00:00, 1175.05it/s]\n"
     ]
    }
   ],
   "source": [
    "filtered_simlex = filtered_simlex.progress_apply(add_cosinus, axis=1)"
   ]
  },
  {
   "cell_type": "code",
   "execution_count": 25,
   "metadata": {},
   "outputs": [
    {
     "output_type": "stream",
     "name": "stderr",
     "text": [
      "100%|██████████| 967/967 [00:00<00:00, 1234.41it/s]\n"
     ]
    }
   ],
   "source": [
    "filtered_simlex = filtered_simlex.progress_apply(add_euclidean, axis=1)"
   ]
  },
  {
   "cell_type": "code",
   "execution_count": 26,
   "metadata": {},
   "outputs": [
    {
     "output_type": "execute_result",
     "data": {
      "text/plain": [
       "     index   id         word1         word2  similarity  relatedness  \\\n",
       "962    994  995      dołączyć        zdobyć        0.43         2.29   \n",
       "963    995  996       wysyłać  uczestniczyć        0.00         0.86   \n",
       "964    996  997       zbierać  uczestniczyć        0.00         0.71   \n",
       "965    997  998     pochłonąć       wycofać        0.00         0.57   \n",
       "966    998  999  uczestniczyć       przybyć        0.57         3.43   \n",
       "\n",
       "      cosinus  euclidean  \n",
       "962  0.657871  25.897192  \n",
       "963  0.560702  29.530632  \n",
       "964  0.617206  26.957282  \n",
       "965  0.720902  21.570204  \n",
       "966  0.727095  22.198529  "
      ],
      "text/html": "<div>\n<style scoped>\n    .dataframe tbody tr th:only-of-type {\n        vertical-align: middle;\n    }\n\n    .dataframe tbody tr th {\n        vertical-align: top;\n    }\n\n    .dataframe thead th {\n        text-align: right;\n    }\n</style>\n<table border=\"1\" class=\"dataframe\">\n  <thead>\n    <tr style=\"text-align: right;\">\n      <th></th>\n      <th>index</th>\n      <th>id</th>\n      <th>word1</th>\n      <th>word2</th>\n      <th>similarity</th>\n      <th>relatedness</th>\n      <th>cosinus</th>\n      <th>euclidean</th>\n    </tr>\n  </thead>\n  <tbody>\n    <tr>\n      <th>962</th>\n      <td>994</td>\n      <td>995</td>\n      <td>dołączyć</td>\n      <td>zdobyć</td>\n      <td>0.43</td>\n      <td>2.29</td>\n      <td>0.657871</td>\n      <td>25.897192</td>\n    </tr>\n    <tr>\n      <th>963</th>\n      <td>995</td>\n      <td>996</td>\n      <td>wysyłać</td>\n      <td>uczestniczyć</td>\n      <td>0.00</td>\n      <td>0.86</td>\n      <td>0.560702</td>\n      <td>29.530632</td>\n    </tr>\n    <tr>\n      <th>964</th>\n      <td>996</td>\n      <td>997</td>\n      <td>zbierać</td>\n      <td>uczestniczyć</td>\n      <td>0.00</td>\n      <td>0.71</td>\n      <td>0.617206</td>\n      <td>26.957282</td>\n    </tr>\n    <tr>\n      <th>965</th>\n      <td>997</td>\n      <td>998</td>\n      <td>pochłonąć</td>\n      <td>wycofać</td>\n      <td>0.00</td>\n      <td>0.57</td>\n      <td>0.720902</td>\n      <td>21.570204</td>\n    </tr>\n    <tr>\n      <th>966</th>\n      <td>998</td>\n      <td>999</td>\n      <td>uczestniczyć</td>\n      <td>przybyć</td>\n      <td>0.57</td>\n      <td>3.43</td>\n      <td>0.727095</td>\n      <td>22.198529</td>\n    </tr>\n  </tbody>\n</table>\n</div>"
     },
     "metadata": {},
     "execution_count": 26
    }
   ],
   "source": [
    "filtered_simlex.tail()"
   ]
  },
  {
   "cell_type": "code",
   "execution_count": 27,
   "metadata": {},
   "outputs": [],
   "source": [
    "filtered_simlex.to_csv('out/embeddings_results.csv')"
   ]
  },
  {
   "source": [
    "## K top similar words"
   ],
   "cell_type": "markdown",
   "metadata": {}
  },
  {
   "cell_type": "code",
   "execution_count": 112,
   "metadata": {},
   "outputs": [],
   "source": [
    "def k_top(k, words, metric_fun, max=True):\n",
    "    \n",
    "    combs = list(itertools.combinations(words, 2))\n",
    "    metrics = {}\n",
    "    for comb in tqdm(combs):\n",
    "        metric = metric_fun(comb[0], comb[1])\n",
    "        metrics[str(set(comb))] = metric\n",
    "\n",
    "    results = {} # comb: metric\n",
    "\n",
    "    combs = list(itertools.combinations(words, k))\n",
    "    for comb in combs:\n",
    "        sub_combs = list(itertools.combinations(comb, 2))\n",
    "        metrics_to_mean = []\n",
    "        for sub_comb in sub_combs:\n",
    "            metrics_to_mean.append(\n",
    "                metrics[str(set(sub_comb))]\n",
    "            )\n",
    "        results[str(comb)] = np.mean(np.array(metrics_to_mean))\n",
    "\n",
    "    results = {k: v for k, v in sorted(results.items(), key=lambda item: item[1], reverse=max)}\n",
    "\n",
    "    print()\n",
    "    print()\n",
    "    print('TOP 1')\n",
    "    print('Słowa: ', list(results.items())[0][0])\n",
    "    print('Wartość metryki: ', round(list(results.items())[0][1], 4))\n",
    "    print()\n",
    "    print('TOP 2')\n",
    "    print('Słowa: ', list(results.items())[1][0])\n",
    "    print('Wartość metryki: ', round(list(results.items())[1][1], 4))\n",
    "    print()\n",
    "    print('TOP 3')\n",
    "    print('Słowa: ', list(results.items())[2][0])\n",
    "    print('Wartość metryki: ', round(list(results.items())[2][1], 4))"
   ]
  },
  {
   "cell_type": "code",
   "execution_count": 113,
   "metadata": {},
   "outputs": [],
   "source": [
    "words = [\n",
    "    'sufit',\n",
    "    'pochłonąć',\n",
    "    'okoliczność',\n",
    "    'rubież',\n",
    "    'upraszać',\n",
    "    'rytm',\n",
    "    'nowoczesny',\n",
    "    'pojemnik',\n",
    "    'gwałtowny',\n",
    "    'pudełko'\n",
    "]"
   ]
  },
  {
   "source": [
    "### Cosinus"
   ],
   "cell_type": "markdown",
   "metadata": {}
  },
  {
   "cell_type": "code",
   "execution_count": 114,
   "metadata": {},
   "outputs": [
    {
     "output_type": "stream",
     "name": "stderr",
     "text": [
      "100%|██████████| 45/45 [00:00<00:00, 9331.27it/s]\n",
      "\n",
      "TOP 1\n",
      "Słowa:  ('pojemnik', 'pudełko')\n",
      "Wartość metryki:  0.6545\n",
      "\n",
      "TOP 2\n",
      "Słowa:  ('pochłonąć', 'gwałtowny')\n",
      "Wartość metryki:  0.652\n",
      "\n",
      "TOP 3\n",
      "Słowa:  ('okoliczność', 'gwałtowny')\n",
      "Wartość metryki:  0.5974\n",
      "\n"
     ]
    }
   ],
   "source": [
    "k_top(2, words, cosinus, max=True)"
   ]
  },
  {
   "cell_type": "code",
   "execution_count": 115,
   "metadata": {},
   "outputs": [
    {
     "output_type": "stream",
     "name": "stderr",
     "text": [
      "100%|██████████| 45/45 [00:00<00:00, 29997.41it/s]\n",
      "\n",
      "TOP 1\n",
      "Słowa:  ('pochłonąć', 'upraszać', 'gwałtowny')\n",
      "Wartość metryki:  0.5812\n",
      "\n",
      "TOP 2\n",
      "Słowa:  ('pochłonąć', 'nowoczesny', 'gwałtowny')\n",
      "Wartość metryki:  0.5589\n",
      "\n",
      "TOP 3\n",
      "Słowa:  ('pochłonąć', 'okoliczność', 'gwałtowny')\n",
      "Wartość metryki:  0.5588\n",
      "\n"
     ]
    }
   ],
   "source": [
    "k_top(3, words, cosinus, max=True)"
   ]
  },
  {
   "source": [
    "### Euclidean"
   ],
   "cell_type": "markdown",
   "metadata": {}
  },
  {
   "cell_type": "code",
   "execution_count": 116,
   "metadata": {},
   "outputs": [
    {
     "output_type": "stream",
     "name": "stderr",
     "text": [
      "100%|██████████| 45/45 [00:00<00:00, 31115.01it/s]\n",
      "\n",
      "TOP 1\n",
      "Słowa:  ('pochłonąć', 'gwałtowny')\n",
      "Wartość metryki:  21.4629\n",
      "\n",
      "TOP 2\n",
      "Słowa:  ('pojemnik', 'pudełko')\n",
      "Wartość metryki:  21.7708\n",
      "\n",
      "TOP 3\n",
      "Słowa:  ('pochłonąć', 'upraszać')\n",
      "Wartość metryki:  23.3221\n",
      "\n"
     ]
    }
   ],
   "source": [
    "k_top(2, words, euclidean, max=False)"
   ]
  },
  {
   "cell_type": "code",
   "execution_count": 117,
   "metadata": {},
   "outputs": [
    {
     "output_type": "stream",
     "name": "stderr",
     "text": [
      "100%|██████████| 45/45 [00:00<00:00, 33037.58it/s]\n",
      "\n",
      "TOP 1\n",
      "Słowa:  ('pochłonąć', 'upraszać', 'gwałtowny')\n",
      "Wartość metryki:  23.5361\n",
      "\n",
      "TOP 2\n",
      "Słowa:  ('pochłonąć', 'rubież', 'gwałtowny')\n",
      "Wartość metryki:  24.1262\n",
      "\n",
      "TOP 3\n",
      "Słowa:  ('pochłonąć', 'okoliczność', 'gwałtowny')\n",
      "Wartość metryki:  24.159\n",
      "\n"
     ]
    }
   ],
   "source": [
    "k_top(3, words, euclidean, max=False)"
   ]
  },
  {
   "cell_type": "code",
   "execution_count": null,
   "metadata": {},
   "outputs": [],
   "source": []
  }
 ]
}