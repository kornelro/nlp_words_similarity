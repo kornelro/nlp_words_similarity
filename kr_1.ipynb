{
 "metadata": {
  "language_info": {
   "codemirror_mode": {
    "name": "ipython",
    "version": 3
   },
   "file_extension": ".py",
   "mimetype": "text/x-python",
   "name": "python",
   "nbconvert_exporter": "python",
   "pygments_lexer": "ipython3",
   "version": "3.8.5-final"
  },
  "orig_nbformat": 2,
  "kernelspec": {
   "name": "python38564bitvenvnlp2venv82f16d541d5c410e9fc7d4911a990df6",
   "display_name": "Python 3.8.5 64-bit ('venv_nlp2': venv)"
  }
 },
 "nbformat": 4,
 "nbformat_minor": 2,
 "cells": [
  {
   "cell_type": "code",
   "execution_count": 1,
   "metadata": {},
   "outputs": [],
   "source": [
    "import plwn"
   ]
  },
  {
   "cell_type": "code",
   "execution_count": 2,
   "metadata": {},
   "outputs": [],
   "source": [
    "plwn.download()"
   ]
  },
  {
   "cell_type": "code",
   "execution_count": 12,
   "metadata": {},
   "outputs": [],
   "source": [
    "wn = plwn.load('./default_model')"
   ]
  },
  {
   "cell_type": "code",
   "execution_count": 13,
   "metadata": {},
   "outputs": [],
   "source": [
    "lex = wn.lexical_unit('pies', plwn.PoS.noun_pl, 2)"
   ]
  },
  {
   "cell_type": "code",
   "execution_count": 15,
   "metadata": {},
   "outputs": [
    {
     "output_type": "stream",
     "name": "stdout",
     "text": [
      "pies.2(21:zw)\n"
     ]
    }
   ],
   "source": [
    "print(lex)"
   ]
  },
  {
   "cell_type": "code",
   "execution_count": 17,
   "metadata": {},
   "outputs": [
    {
     "output_type": "stream",
     "name": "stdout",
     "text": [
      "pies domowy - popularne zwierzę domowe, przyjaciel człowieka.\n"
     ]
    }
   ],
   "source": [
    "print(lex.definition)"
   ]
  },
  {
   "cell_type": "code",
   "execution_count": 18,
   "metadata": {},
   "outputs": [
    {
     "output_type": "stream",
     "text": [
      "\u001b[0;31mType:\u001b[0m            LexicalUnit\n",
      "\u001b[0;31mString form:\u001b[0m     pies.2(21:zw)\n",
      "\u001b[0;31mFile:\u001b[0m            ~/Projects/NLP/nlp_zad2/venv_nlp2/lib/python3.8/site-packages/plwn_api-0.24-py3.8.egg/plwn/storages/sqlite.py\n",
      "\u001b[0;31mDocstring:\u001b[0m       <no docstring>\n",
      "\u001b[0;31mClass docstring:\u001b[0m\n",
      "Encapsulates data associated with a plWordNet lexical unit.\n",
      "\n",
      "Lexical units represent terms in the language. Each lexical unit is\n",
      "uniquely identified by its lemma (base written form), part of speech\n",
      "(verb, noun, adjective or adverb) and variant (a number differentiating\n",
      "between homonyms).\n",
      "\u001b[0;31mInit docstring:\u001b[0m \n",
      "**NOTE:** This constructor should not be called directly.\n",
      "\n",
      "Use :class:`PLWordNet` methods to obtain lexical units.\n"
     ],
     "name": "stdout"
    }
   ],
   "source": [
    "lex?"
   ]
  }
 ]
}