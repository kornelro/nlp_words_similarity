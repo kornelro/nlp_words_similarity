{
 "metadata": {
  "language_info": {
   "codemirror_mode": {
    "name": "ipython",
    "version": 3
   },
   "file_extension": ".py",
   "mimetype": "text/x-python",
   "name": "python",
   "nbconvert_exporter": "python",
   "pygments_lexer": "ipython3",
   "version": "3.8.5-final"
  },
  "orig_nbformat": 2,
  "kernelspec": {
   "name": "python38564bitvenvnlp2venv82f16d541d5c410e9fc7d4911a990df6",
   "display_name": "Python 3.8.5 64-bit ('venv_nlp2': venv)"
  }
 },
 "nbformat": 4,
 "nbformat_minor": 2,
 "cells": [
  {
   "cell_type": "code",
   "execution_count": 2,
   "metadata": {},
   "outputs": [],
   "source": [
    "import plwn\n",
    "import networkx as nx"
   ]
  },
  {
   "cell_type": "code",
   "execution_count": 3,
   "metadata": {},
   "outputs": [],
   "source": [
    "# plwn.download()"
   ]
  },
  {
   "cell_type": "code",
   "execution_count": 4,
   "metadata": {},
   "outputs": [],
   "source": [
    "wn = plwn.load('./default_model')"
   ]
  },
  {
   "cell_type": "code",
   "execution_count": 5,
   "metadata": {},
   "outputs": [],
   "source": [
    "lex = wn.lexical_unit('pies', plwn.PoS.noun_pl, 1)"
   ]
  },
  {
   "cell_type": "code",
   "execution_count": 6,
   "metadata": {},
   "outputs": [
    {
     "output_type": "stream",
     "name": "stdout",
     "text": [
      "pies.1(21:zw)\n"
     ]
    }
   ],
   "source": [
    "print(lex)"
   ]
  },
  {
   "cell_type": "code",
   "execution_count": 7,
   "metadata": {},
   "outputs": [
    {
     "output_type": "stream",
     "name": "stdout",
     "text": [
      "ssak z rodziny psowatych.\n"
     ]
    }
   ],
   "source": [
    "print(lex.definition)"
   ]
  },
  {
   "cell_type": "code",
   "execution_count": 8,
   "metadata": {},
   "outputs": [
    {
     "output_type": "execute_result",
     "data": {
      "text/plain": [
       "()"
      ]
     },
     "metadata": {},
     "execution_count": 8
    }
   ],
   "source": [
    "lex.related()"
   ]
  },
  {
   "cell_type": "code",
   "execution_count": 9,
   "metadata": {},
   "outputs": [
    {
     "output_type": "execute_result",
     "data": {
      "text/plain": [
       "{'id': 5563,\n",
       " 'lemma': 'pies',\n",
       " 'pos': 'noun',\n",
       " 'variant': 1,\n",
       " 'definition': 'ssak z rodziny psowatych.',\n",
       " 'sense_examples': ('Zmysł powonienia lisów jest dobry, lecz słabszy od węchu innych psów.',),\n",
       " 'sense_examples_sources': ('P',),\n",
       " 'external_links': (),\n",
       " 'usage_notes': ('specj.',),\n",
       " 'domain': 'zwierzęta',\n",
       " 'synset': 5194,\n",
       " 'verb_aspect': None,\n",
       " 'emotion_markedness': None,\n",
       " 'emotion_names': (),\n",
       " 'emotion_valuations': (),\n",
       " 'emotion_example': None,\n",
       " 'emotion_example_secondary': None,\n",
       " 'str': 'pies.1(21:zw)',\n",
       " 'related': {}}"
      ]
     },
     "metadata": {},
     "execution_count": 9
    }
   ],
   "source": [
    "lex.to_dict()"
   ]
  },
  {
   "cell_type": "code",
   "execution_count": 11,
   "metadata": {},
   "outputs": [],
   "source": [
    "synset = wn.synset('pies', plwn.PoS.noun_pl, 1)"
   ]
  },
  {
   "cell_type": "code",
   "execution_count": 13,
   "metadata": {},
   "outputs": [
    {
     "output_type": "execute_result",
     "data": {
      "text/plain": [
       "{'id': 5194,\n",
       " 'definition': '',\n",
       " 'is_artificial': False,\n",
       " 'units': ({'id': 5563,\n",
       "   'lemma': 'pies',\n",
       "   'pos': 'noun',\n",
       "   'variant': 1,\n",
       "   'definition': 'ssak z rodziny psowatych.',\n",
       "   'sense_examples': ('Zmysł powonienia lisów jest dobry, lecz słabszy od węchu innych psów.',),\n",
       "   'sense_examples_sources': ('P',),\n",
       "   'external_links': (),\n",
       "   'usage_notes': ('specj.',),\n",
       "   'domain': 'zwierzęta',\n",
       "   'synset': 5194,\n",
       "   'verb_aspect': None,\n",
       "   'emotion_markedness': None,\n",
       "   'emotion_names': (),\n",
       "   'emotion_valuations': (),\n",
       "   'emotion_example': None,\n",
       "   'emotion_example_secondary': None,\n",
       "   'str': 'pies.1(21:zw)',\n",
       "   'related': {}},),\n",
       " 'str': '{pies.1(21:zw)}',\n",
       " 'related': {'egzemplarz': ((72555, '{Cerber.1(21:zw)}'),),\n",
       "  'fuzzynimia_synsetów': ((7061418, '{kabanos.2(10:jedz), [+ 1 unit(s)]}'),\n",
       "   (80494, '{dogoterapia.1(2:czy), [+ 1 unit(s)]}')),\n",
       "  'hiperonimia': ((27423, '{kojot.1(21:zw), [+ 2 unit(s)]}'),\n",
       "   (257017, '{wilk_falklandzki.1(21:zw)}'),\n",
       "   (34108, '{jenot.1(21:zw), [+ 5 unit(s)]}'),\n",
       "   (394589, '{pies.4(21:zw)}'),\n",
       "   (256922, '{wilk_rudy.1(21:zw), [+ 1 unit(s)]}'),\n",
       "   (256921, '{wilk_indyjski.1(21:zw)}'),\n",
       "   (257031, '{otocjon.1(21:zw)}'),\n",
       "   (257015, '{wilk_andyjski.1(21:zw), [+ 1 unit(s)]}'),\n",
       "   (34120, '{likaon.1(21:zw), [+ 1 unit(s)]}'),\n",
       "   (3801, '{wilk.1(21:zw), [+ 1 unit(s)]}'),\n",
       "   (257030, '{pies_leśny.1(21:zw)}'),\n",
       "   (256920, '{wilk_himalajski.1(21:zw)}'),\n",
       "   (12886, '{lis.1(21:zw)}'),\n",
       "   (256927, '{cyjon.1(21:zw)}'),\n",
       "   (257012, '{wilczek_krótkouchy.1(21:zw)}'),\n",
       "   (34160, '{pies.2(21:zw), [+ 1 unit(s)]}'),\n",
       "   (256918, '{dingo.1(21:zw)}'),\n",
       "   (257029, '{wilk_grzywiasty.1(21:zw)}'),\n",
       "   (256924, '{szakal.2(21:zw)}'),\n",
       "   (34510, '{suka.2(21:zw)}')),\n",
       "  'hiponimia': ((254595, '{ssak_drapieżny.1(21:zw)}'),),\n",
       "  'meronimia/element taksonomiczny': ((73998, '{psowate.1(46:sys)}'),),\n",
       "  'synonimia_międzyjęzykowa/Syn_plWN-PWN': ((295618,\n",
       "    '{canine.2(21:zw), [+ 1 unit(s)]}'),)}}"
      ]
     },
     "metadata": {},
     "execution_count": 13
    }
   ],
   "source": [
    "synset.to_dict()"
   ]
  },
  {
   "cell_type": "code",
   "execution_count": 19,
   "metadata": {},
   "outputs": [
    {
     "output_type": "execute_result",
     "data": {
      "text/plain": [
       "<bound method Synset.related_pairs of <Synset id=5194 lemma='pies' pos=<PoS.noun: 'noun'> variant=1>>"
      ]
     },
     "metadata": {},
     "execution_count": 19
    }
   ],
   "source": [
    "synset.related_pairs"
   ]
  },
  {
   "cell_type": "code",
   "execution_count": 14,
   "metadata": {},
   "outputs": [],
   "source": [
    "# wn.to_graphml(out_file='./graph_synset.xml', graph_type='synset')"
   ]
  },
  {
   "cell_type": "code",
   "execution_count": 15,
   "metadata": {},
   "outputs": [],
   "source": [
    "# G = nx.read_graphml('./graph_synset.xml')"
   ]
  },
  {
   "cell_type": "code",
   "execution_count": 16,
   "metadata": {},
   "outputs": [],
   "source": [
    "# len(G.nodes)"
   ]
  },
  {
   "cell_type": "code",
   "execution_count": 17,
   "metadata": {},
   "outputs": [],
   "source": [
    "# len(G.edges)"
   ]
  },
  {
   "cell_type": "code",
   "execution_count": 18,
   "metadata": {},
   "outputs": [],
   "source": [
    "# G.has_node('5563')"
   ]
  },
  {
   "source": [
    "wu palmera - głównie hiponimia i hiperonimia, szukac w grafie synsetow"
   ],
   "cell_type": "markdown",
   "metadata": {}
  },
  {
   "cell_type": "code",
   "execution_count": null,
   "metadata": {},
   "outputs": [],
   "source": []
  }
 ]
}